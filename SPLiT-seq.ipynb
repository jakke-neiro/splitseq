{
 "cells": [
  {
   "cell_type": "markdown",
   "metadata": {},
   "source": [
    "# Protocol summary"
   ]
  },
  {
   "cell_type": "markdown",
   "metadata": {},
   "source": [
    "1. ACME\n",
    "2. FACS\n",
    "3. Plate preparation \n",
    "4. Round 1 barcoding: Reverse transcription\n",
    "5. Round 2 barcoding: Ligation 1\n",
    "6. Round 3 barcoding: Ligation 2\n",
    "7. Cell lysis\n",
    "8. cDNA purification with magnetic beads\n",
    "9. Template switch\n",
    "10. PCR amplification\n",
    "11. Size selection\n",
    "12. Tagmentation\n",
    "13. Round 4 barcoding: PCR"
   ]
  },
  {
   "cell_type": "markdown",
   "metadata": {},
   "source": [
    "# Sequence structure\n",
    "## Plate preparation"
   ]
  },
  {
   "cell_type": "markdown",
   "metadata": {},
   "source": [
    "In the plate preparation step, we prepare the WD plates from the Stock plates.\n",
    "\n",
    "* WD-1: 12 ul Stock 1 + 88 ul water\n",
    "* WD-2: 12 ul Stock 2 + 11 ul Linker_1 (100 uM) + 77 ul water\n"
   ]
  },
  {
   "cell_type": "markdown",
   "metadata": {},
   "source": [
    "## 4. Round 1: Reverse transcription"
   ]
  },
  {
   "cell_type": "markdown",
   "metadata": {},
   "source": [
    "The round 1 barcode binds to the polyadenylation tail of mRNA. The Round 1 barcode has a 15 base T-tail binding to the polyA-tail and two nonbinding bases (NV). N is any base (A, C, G, or T), and V is A,C or G."
   ]
  },
  {
   "attachments": {},
   "cell_type": "markdown",
   "metadata": {},
   "source": [
    "![image.png](Round1_1.PNG)"
   ]
  },
  {
   "cell_type": "markdown",
   "metadata": {},
   "source": [
    "We use the Maxima H Minus RT enzyme to perform reverse transcription or \"first strand synthesis\". The Maxima H Minus RT enzyme is derived from the Moloney murine leukemia virus (MMLV). During first-strand synthesis, upon reaching the 5' end of the RNA template. the terminal transferase activity of the MMLV reverse transcriptase adds a few additional nucleotides (mostly deoxycytidine) to the 3' end of the newly synthesized cDNA strand. These bases function later as a template-switch (TS) oligo-anchoring site."
   ]
  },
  {
   "cell_type": "markdown",
   "metadata": {},
   "source": [
    "We now have a mRNA/DNA chimera:"
   ]
  },
  {
   "attachments": {},
   "cell_type": "markdown",
   "metadata": {},
   "source": [
    "![image.png](Round1_2.PNG)"
   ]
  },
  {
   "cell_type": "markdown",
   "metadata": {},
   "source": [
    "We have to pay attention to RNAses and DNAses."
   ]
  },
  {
   "cell_type": "markdown",
   "metadata": {},
   "source": [
    "## 5. Round 2: Ligation 1"
   ]
  },
  {
   "cell_type": "markdown",
   "metadata": {},
   "source": [
    "![image.png](Round2_1.PNG)"
   ]
  },
  {
   "cell_type": "markdown",
   "metadata": {},
   "source": [
    "![image.png](Round2_2.PNG)"
   ]
  }
 ],
 "metadata": {
  "kernelspec": {
   "display_name": "Python 3",
   "language": "python",
   "name": "python3"
  },
  "language_info": {
   "codemirror_mode": {
    "name": "ipython",
    "version": 3
   },
   "file_extension": ".py",
   "mimetype": "text/x-python",
   "name": "python",
   "nbconvert_exporter": "python",
   "pygments_lexer": "ipython3",
   "version": "3.8.3"
  }
 },
 "nbformat": 4,
 "nbformat_minor": 4
}
